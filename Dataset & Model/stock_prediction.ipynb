{
 "cells": [
  {
   "cell_type": "code",
   "execution_count": 1,
   "metadata": {
    "colab": {
     "base_uri": "https://localhost:8080/"
    },
    "id": "IWcv-yEIf6A4",
    "outputId": "ad4550e4-0056-41f0-eaa5-1f5ff1407d12"
   },
   "outputs": [
    {
     "ename": "ModuleNotFoundError",
     "evalue": "No module named 'keras'",
     "output_type": "error",
     "traceback": [
      "\u001b[1;31m---------------------------------------------------------------------------\u001b[0m",
      "\u001b[1;31mModuleNotFoundError\u001b[0m                       Traceback (most recent call last)",
      "\u001b[1;32mC:\\Users\\ANUJSI~1\\AppData\\Local\\Temp/ipykernel_11524/3507419027.py\u001b[0m in \u001b[0;36m<module>\u001b[1;34m\u001b[0m\n\u001b[0;32m      6\u001b[0m \u001b[1;32mfrom\u001b[0m \u001b[0msklearn\u001b[0m\u001b[1;33m.\u001b[0m\u001b[0mpreprocessing\u001b[0m \u001b[1;32mimport\u001b[0m \u001b[0mStandardScaler\u001b[0m\u001b[1;33m\u001b[0m\u001b[1;33m\u001b[0m\u001b[0m\n\u001b[0;32m      7\u001b[0m \u001b[1;33m\u001b[0m\u001b[0m\n\u001b[1;32m----> 8\u001b[1;33m \u001b[1;32mfrom\u001b[0m \u001b[0mkeras\u001b[0m\u001b[1;33m.\u001b[0m\u001b[0mmodels\u001b[0m \u001b[1;32mimport\u001b[0m \u001b[0mSequential\u001b[0m\u001b[1;33m\u001b[0m\u001b[1;33m\u001b[0m\u001b[0m\n\u001b[0m\u001b[0;32m      9\u001b[0m \u001b[1;32mfrom\u001b[0m \u001b[0mkeras\u001b[0m\u001b[1;33m.\u001b[0m\u001b[0mlayers\u001b[0m \u001b[1;32mimport\u001b[0m \u001b[0mDense\u001b[0m\u001b[1;33m,\u001b[0m \u001b[0mLSTM\u001b[0m\u001b[1;33m\u001b[0m\u001b[1;33m\u001b[0m\u001b[0m\n\u001b[0;32m     10\u001b[0m \u001b[0mplt\u001b[0m\u001b[1;33m.\u001b[0m\u001b[0mstyle\u001b[0m\u001b[1;33m.\u001b[0m\u001b[0muse\u001b[0m\u001b[1;33m(\u001b[0m\u001b[1;34m'fivethirtyeight'\u001b[0m\u001b[1;33m)\u001b[0m\u001b[1;33m\u001b[0m\u001b[1;33m\u001b[0m\u001b[0m\n",
      "\u001b[1;31mModuleNotFoundError\u001b[0m: No module named 'keras'"
     ]
    }
   ],
   "source": [
    " \n",
    "import numpy as np\n",
    "import pandas as pd\n",
    "import pandas_datareader as web\n",
    "import math\n",
    "import matplotlib.pyplot as plt\n",
    "from sklearn.preprocessing import StandardScaler\n",
    "import tensorflow as tf\n",
    "from keras.models import Sequential\n",
    "from keras.layers import Dense, LSTM\n",
    "plt.style.use('fivethirtyeight')\n",
    "\n",
    "import warnings\n",
    "\n",
    "warnings.filterwarnings('ignore')"
   ]
  },
  {
   "cell_type": "code",
   "execution_count": null,
   "metadata": {
    "colab": {
     "base_uri": "https://localhost:8080/",
     "height": 689
    },
    "id": "Rq6fw3bMga4E",
    "outputId": "71714011-a85a-402a-bb35-3751dfa082d2"
   },
   "outputs": [],
   "source": [
    "\n",
    "df = pd.read_csv(\"MSFT.csv\")\n",
    "\n",
    "#show the dataset\n",
    "df"
   ]
  },
  {
   "cell_type": "code",
   "execution_count": null,
   "metadata": {
    "colab": {
     "base_uri": "https://localhost:8080/"
    },
    "id": "ydwCsRvmhClZ",
    "outputId": "8876bf1e-6298-4461-c490-6eb84ce21414"
   },
   "outputs": [],
   "source": [
    "df.shape"
   ]
  },
  {
   "cell_type": "code",
   "execution_count": null,
   "metadata": {
    "colab": {
     "base_uri": "https://localhost:8080/",
     "height": 339
    },
    "id": "ghWYKftihSuL",
    "outputId": "c80fcd5c-8b2e-4b35-faa3-bcbb7fa62d89"
   },
   "outputs": [],
   "source": [
    "#visualize the closing prices\n",
    "plt.figure(figsize=(16,8))\n",
    "plt.title('closing price of Stock')\n",
    "plt.plot(df['Close'])\n",
    "plt.xlabel('Date')\n",
    "plt.ylabel('Closing price')\n",
    "plt.show()"
   ]
  },
  {
   "cell_type": "code",
   "execution_count": null,
   "metadata": {
    "colab": {
     "base_uri": "https://localhost:8080/"
    },
    "id": "zkxOpxhlhzmA",
    "outputId": "0ac81b36-3646-4b36-f191-28dc98b0ec95"
   },
   "outputs": [],
   "source": [
    "#create new database with only required coloumns\n",
    "data=df.filter(['Close'])\n",
    "#convert the dataframe to numpy array\n",
    "dataset=data.values\n",
    "#get the number of rows to train 80 percent\n",
    "training_data_len=math.ceil(len(dataset)*0.8)\n",
    "training_data_len"
   ]
  },
  {
   "cell_type": "code",
   "execution_count": null,
   "metadata": {
    "colab": {
     "base_uri": "https://localhost:8080/"
    },
    "id": "sLyctyWBjgPN",
    "outputId": "57132f87-4508-46c6-ba63-f4193db394e1"
   },
   "outputs": [],
   "source": [
    "#scale the data\n",
    "scaler=StandardScaler() \n",
    "scaled_data=scaler.fit_transform(dataset)\n",
    "print(\"MEAN of processed data: \",scaled_data.mean())\n",
    "print(\"Standard deviation of processed data: \",scaled_data.std())"
   ]
  },
  {
   "cell_type": "code",
   "execution_count": null,
   "metadata": {
    "id": "Fo35RfT2kB_Q"
   },
   "outputs": [],
   "source": [
    "#create the training data\n",
    "#create scaled training dataset\n",
    "train_data = scaled_data[0:training_data_len, :]\n",
    "#split the data to x_train and y_train\n",
    "x_train=[]\n",
    "y_train=[]\n",
    "for i in range(60,len(train_data)):\n",
    "  x_train.append(train_data[i-60:i])\n",
    "  y_train.append(train_data[i])"
   ]
  },
  {
   "cell_type": "code",
   "execution_count": null,
   "metadata": {
    "colab": {
     "base_uri": "https://localhost:8080/"
    },
    "id": "fTXFifMjldIh",
    "outputId": "51aec2fa-8894-4797-c10e-082e4b73faf4"
   },
   "outputs": [],
   "source": [
    "#convert x_train and y_train into numpy arrays\n",
    "x_train,y_train=np.array(x_train),np.array(y_train)\n",
    "x_train.shape"
   ]
  },
  {
   "cell_type": "code",
   "execution_count": null,
   "metadata": {
    "colab": {
     "base_uri": "https://localhost:8080/"
    },
    "id": "GQ6D0Bjzlw6C",
    "outputId": "3d477db8-ff75-4497-867e-f7eb48498068"
   },
   "outputs": [],
   "source": [
    "#reshape the data\n",
    "print(\"x_train shape before reshaping\",x_train.shape)\n",
    "x_train = np.reshape(x_train,(x_train.shape[0],x_train.shape[1],1)) #np.reshape(x_train,(x_train.shape[0],x_train.shape[1],1))\n",
    "print(\"x_train shape after reshaping\",x_train.shape)"
   ]
  },
  {
   "cell_type": "code",
   "execution_count": null,
   "metadata": {
    "id": "VBzgFpWF12x1"
   },
   "outputs": [],
   "source": [
    "#build LSTM model\n",
    "model= Sequential()\n",
    "model.add(LSTM(200,return_sequences=True,input_shape=(x_train.shape[1], 1)))\n",
    "model.add(LSTM(200,return_sequences=False))\n",
    "model.add(Dense(100))\n",
    "model.add(Dense(50))\n",
    "model.add(Dense(1)) "
   ]
  },
  {
   "cell_type": "code",
   "execution_count": null,
   "metadata": {
    "id": "yVAtKLo01299"
   },
   "outputs": [],
   "source": [
    "#compile the model\n",
    "model.compile(optimizer='adam',loss='mean_squared_error')"
   ]
  },
  {
   "cell_type": "code",
   "execution_count": null,
   "metadata": {
    "colab": {
     "base_uri": "https://localhost:8080/"
    },
    "id": "FIJl_DG2fGyX",
    "outputId": "094b7c03-9033-4ede-96f7-58287f5628f7"
   },
   "outputs": [],
   "source": [
    "model.summary()"
   ]
  },
  {
   "cell_type": "code",
   "execution_count": null,
   "metadata": {
    "colab": {
     "base_uri": "https://localhost:8080/"
    },
    "id": "49ZW1GxM13Jv",
    "outputId": "1b9f21b0-2f2e-4776-e89f-db8c4f8f26e0"
   },
   "outputs": [],
   "source": [
    "#train the model\n",
    "history = model.fit(x_train,y_train,epochs=20)"
   ]
  },
  {
   "cell_type": "code",
   "execution_count": null,
   "metadata": {
    "colab": {
     "base_uri": "https://localhost:8080/",
     "height": 279
    },
    "id": "mM_VSVNFWBSw",
    "outputId": "1cff32d2-2b09-4cec-e487-5dc68b432588"
   },
   "outputs": [],
   "source": [
    "plt.plot(history.history['loss'])"
   ]
  },
  {
   "cell_type": "code",
   "execution_count": null,
   "metadata": {
    "id": "ALXAJAPZojcf"
   },
   "outputs": [],
   "source": [
    "#create the testing dataset\n",
    "#createt new array\n",
    "test_data=scaled_data[training_data_len-60:, :]\n",
    "#create the dataset x_test and y_test\n",
    "x_test=[]\n",
    "y_test=dataset[training_data_len: , :]\n",
    "for i in range(60,len(test_data)):\n",
    "  x_test.append(test_data[i-60:i, 0])"
   ]
  },
  {
   "cell_type": "code",
   "execution_count": null,
   "metadata": {
    "id": "-dhWbGB0pnYz"
   },
   "outputs": [],
   "source": [
    "#convert the data to numpy \n",
    "x_test=np.array(x_test)"
   ]
  },
  {
   "cell_type": "code",
   "execution_count": null,
   "metadata": {
    "id": "eErFj0j6pv7b"
   },
   "outputs": [],
   "source": [
    "#reshape the data\n",
    "x_test=np.reshape(x_test,(x_test.shape[0],x_test.shape[1],1))"
   ]
  },
  {
   "cell_type": "code",
   "execution_count": null,
   "metadata": {
    "id": "OgbP_Sefp-zQ"
   },
   "outputs": [],
   "source": [
    "#get the model predicted value\n",
    "predictions =model.predict(x_test)\n",
    "predictions=scaler.inverse_transform(predictions)\n",
    "# print(predictions)"
   ]
  },
  {
   "cell_type": "code",
   "execution_count": null,
   "metadata": {
    "colab": {
     "base_uri": "https://localhost:8080/"
    },
    "id": "iJQS0nforL_M",
    "outputId": "037b7ebf-1bae-4256-e5bd-798f55ed8c17"
   },
   "outputs": [],
   "source": [
    "#plot the data\n",
    "train=data[:training_data_len]\n",
    "valid=data[training_data_len:]\n",
    "valid['Predictions']=predictions"
   ]
  },
  {
   "cell_type": "code",
   "execution_count": null,
   "metadata": {
    "colab": {
     "base_uri": "https://localhost:8080/",
     "height": 315
    },
    "id": "E1Z3wVgerg6b",
    "outputId": "5396cf9d-9447-4f0b-9a04-7bda410499eb"
   },
   "outputs": [],
   "source": [
    "#visualize the data\n",
    "plt.figure(figsize=(16,8))\n",
    "plt.title('Model')\n",
    "plt.xlabel('Data')\n",
    "plt.ylabel('Close prise INR')\n",
    "plt.plot(train['Close'])\n",
    "plt.plot(valid[['Close','Predictions']])\n",
    "plt.legend(['Train','Test','Predictions'],loc='lower right')\n",
    "plt.show()"
   ]
  },
  {
   "cell_type": "code",
   "execution_count": null,
   "metadata": {
    "colab": {
     "base_uri": "https://localhost:8080/",
     "height": 455
    },
    "id": "KjNhZIU_sFLr",
    "outputId": "eca2b2f8-20d8-48e3-8e5f-c0ded6e7a2c3"
   },
   "outputs": [],
   "source": [
    "#show the valid and predicted value\n",
    "valid"
   ]
  },
  {
   "cell_type": "code",
   "execution_count": null,
   "metadata": {
    "id": "bDMWiZtVUH37"
   },
   "outputs": [],
   "source": []
  }
 ],
 "metadata": {
  "accelerator": "GPU",
  "colab": {
   "collapsed_sections": [],
   "name": "stock prediction.ipynb",
   "provenance": []
  },
  "kernelspec": {
   "display_name": "Python 3 (ipykernel)",
   "language": "python",
   "name": "python3"
  },
  "language_info": {
   "codemirror_mode": {
    "name": "ipython",
    "version": 3
   },
   "file_extension": ".py",
   "mimetype": "text/x-python",
   "name": "python",
   "nbconvert_exporter": "python",
   "pygments_lexer": "ipython3",
   "version": "3.9.7"
  }
 },
 "nbformat": 4,
 "nbformat_minor": 1
}
